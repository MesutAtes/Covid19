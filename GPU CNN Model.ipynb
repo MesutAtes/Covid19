{
 "cells": [
  {
   "cell_type": "code",
   "execution_count": null,
   "id": "stopped-scenario",
   "metadata": {
    "scrolled": true
   },
   "outputs": [],
   "source": [
    "import tensorflow as tf #tensorflow cuda ile cpu ve gpu kullanılabilecek sekilde yuklendi"
   ]
  },
  {
   "cell_type": "code",
   "execution_count": null,
   "id": "interested-patient",
   "metadata": {
    "scrolled": false
   },
   "outputs": [],
   "source": [
    "tf.test.is_gpu_available()\n",
    "#gpu varmı tespit edildi"
   ]
  },
  {
   "cell_type": "code",
   "execution_count": null,
   "id": "comic-observer",
   "metadata": {
    "scrolled": true
   },
   "outputs": [],
   "source": [
    "from tensorflow.python.client import device_lib\n",
    "\n",
    "device_lib.list_local_devices() # local cihazlar listelenir"
   ]
  },
  {
   "cell_type": "code",
   "execution_count": null,
   "id": "floating-lottery",
   "metadata": {},
   "outputs": [],
   "source": [
    "physical_devices = tf.config.list_physical_devices('GPU')\n",
    "try:\n",
    "  tf.config.experimental.set_memory_growth(physical_devices[0], True)\n",
    "except:\n",
    "  # Invalid device or cannot modify virtual devices once initialized.\n",
    "  pass"
   ]
  },
  {
   "cell_type": "code",
   "execution_count": null,
   "id": "obvious-fiction",
   "metadata": {
    "scrolled": true
   },
   "outputs": [],
   "source": [
    "tf.debugging.set_log_device_placement(True)\n",
    "\n",
    "# gpu calıstıgında calısacak tensörler yazılır\n",
    "a = tf.constant([[1.0, 2.0, 3.0], [4.0, 5.0, 6.0]]) #2 satırlı 2 sütünlü matrix\n",
    "b = tf.constant([[1.0, 2.0], [3.0, 4.0], [5.0, 6.0]]) \n",
    "c = tf.matmul(a, b)\n",
    "\n",
    "print(c)"
   ]
  },
  {
   "cell_type": "code",
   "execution_count": null,
   "id": "unsigned-small",
   "metadata": {},
   "outputs": [],
   "source": [
    "import numpy as np\n",
    "\n",
    "data=np.load('data.npy') # alınan resimler yüklenir\n",
    "target=np.load('target.npy') #alınacak klasör labelları yüklenir\n"
   ]
  },
  {
   "cell_type": "code",
   "execution_count": null,
   "id": "bulgarian-being",
   "metadata": {},
   "outputs": [],
   "source": [
    "from keras.models import Sequential,Model # binary sonuclar için kullanılan düz model\n",
    "from keras.layers import Dense, Dropout, Flatten \n",
    "from keras.layers import Conv2D,Activation,MaxPooling2D\n",
    "from keras.utils import normalize\n",
    "from keras.layers import Concatenate\n",
    "from keras import Input\n",
    "from keras.callbacks import ModelCheckpoint\n",
    "import os\n",
    "os.environ['TF_CPP_MIN_LOG_LEVEL'] = '3' \n",
    "\n",
    "\n",
    "input_shape=data.shape[1:] #100,100,1 input shape olarak ayarlandı\n",
    "inp=Input(shape=input_shape) #input model icin shape\n",
    "convs=[]\n",
    "\n",
    "parrallel_kernels=[3,5,7]\n",
    "\n",
    "for k in range(len(parrallel_kernels)):\n",
    "\n",
    "    conv = Conv2D(128, parrallel_kernels[k],padding='same',activation='relu',input_shape=input_shape,strides=1)(inp)\n",
    "    convs.append(conv)\n",
    " #evrişimli 2 boyutlu model ile 3,5,7 olarak label size belirlenir.Aynı olan matrisi kaydırma sayısı bulunur ve matris bulunana\n",
    "out = Concatenate()(convs) # olusturulan layerlar eklenir \n",
    "conv_model = Model( inp, out) #evirisimli modelin inputu ve outputu belirlenir.\n",
    "\n",
    "model = Sequential() #düz model alınır\n",
    "model.add(conv_model) #evrişimsel sinir ağları seçilir\n",
    "\n",
    "model.add(Conv2D(64,(3,3))) # input degeri 64 girilir ve matris layerları 3x3 olarak ayarlanır.\n",
    "model.add(Activation('relu')) # pozitifse sonucu negatifse 0 veren sistem\n",
    "model.add(MaxPooling2D(pool_size=(2,2))) #input 2x2 e indirildi\n",
    "\n",
    "model.add(Conv2D(32,(3,3)))\n",
    "model.add(Activation('relu'))\n",
    "model.add(MaxPooling2D(pool_size=(2,2)))\n",
    "\n",
    "model.add(Flatten()) #girilen verinin boyutu azaltılıp kullanılabilecek hale getirilir\n",
    "model.add(Dropout(0.5))\n",
    "model.add(Dense(128,activation='relu')) # yogunlastırma katmanları olur input boyutu girilir ve boyut azaltılır\n",
    "model.add(Dropout(0.5)) #yeterli derecede basarılı olmayan kısımlar bırakılır\n",
    "model.add(Dense(64,activation='relu')) \n",
    "model.add(Dropout(0.5))\n",
    "model.add(Dense(2,input_dim=128,activation='softmax')) #softmax ile normalizasyon yapılır\n",
    "model.compile(loss='categorical_crossentropy',optimizer='adam',metrics=['accuracy'])\n",
    "\n",
    "model.summary()\n",
    "conv"
   ]
  },
  {
   "cell_type": "code",
   "execution_count": null,
   "id": "framed-studio",
   "metadata": {},
   "outputs": [],
   "source": [
    "from sklearn.model_selection import train_test_split\n",
    "\n",
    "train_data,test_data,train_target,test_target=train_test_split(data,target,test_size=0.1)\n",
    "train_data.shape"
   ]
  },
  {
   "cell_type": "code",
   "execution_count": null,
   "id": "prompt-straight",
   "metadata": {
    "scrolled": true
   },
   "outputs": [],
   "source": [
    "checkpoint = ModelCheckpoint('model-{epoch:03d}.model',monitor='val_loss',verbose=0,save_best_only=True,mode='auto')\n",
    "history=model.fit(train_data,train_target,epochs=20,callbacks=[checkpoint],validation_split=0.1)\n",
    "#en iyi verilen sonucları model checkpoint olarak kabul ederiz.\n",
    "#daha önce kaydedilen checkpointler cagrılır"
   ]
  },
  {
   "cell_type": "code",
   "execution_count": null,
   "id": "satellite-executive",
   "metadata": {
    "scrolled": true
   },
   "outputs": [],
   "source": [
    "print(model.evaluate(test_data,test_target))"
   ]
  },
  {
   "cell_type": "code",
   "execution_count": null,
   "id": "democratic-package",
   "metadata": {},
   "outputs": [],
   "source": []
  }
 ],
 "metadata": {
  "kernelspec": {
   "display_name": "Python 3",
   "language": "python",
   "name": "python3"
  },
  "language_info": {
   "codemirror_mode": {
    "name": "ipython",
    "version": 3
   },
   "file_extension": ".py",
   "mimetype": "text/x-python",
   "name": "python",
   "nbconvert_exporter": "python",
   "pygments_lexer": "ipython3",
   "version": "3.8.8"
  }
 },
 "nbformat": 4,
 "nbformat_minor": 5
}
