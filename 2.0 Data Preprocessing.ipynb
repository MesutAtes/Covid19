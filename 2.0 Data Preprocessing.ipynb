{
 "cells": [
  {
   "cell_type": "code",
   "execution_count": 1,
   "metadata": {},
   "outputs": [
    {
     "name": "stdout",
     "output_type": "stream",
     "text": [
      "{'Covid19 Negative': 0, 'Covid19 Positive': 1}\n",
      "['Covid19 Negative', 'Covid19 Positive']\n",
      "[0, 1]\n"
     ]
    }
   ],
   "source": [
    "import cv2,os #isletim sistemi ve resimler için kullanılacak kütüphane acılır\n",
    "\n",
    "data_path='dataset' # dataset klasörü alınır\n",
    "categories=os.listdir(data_path)\n",
    "labels=[i for i in range(len(categories))] #length of categories yani covid veya normal olma 0 ile 1 olabilir labellar binary\n",
    "\n",
    "label_dict=dict(zip(categories,labels)) #empty dictionary\n",
    "\n",
    "print(label_dict)\n",
    "print(categories)\n",
    "print(labels)\n"
   ]
  },
  {
   "cell_type": "code",
   "execution_count": 2,
   "metadata": {},
   "outputs": [
    {
     "name": "stdout",
     "output_type": "stream",
     "text": [
      "{'Test Negative': 0, 'Test Positive': 1}\n",
      "['Test Negative', 'Test Positive']\n",
      "[0, 1]\n"
     ]
    }
   ],
   "source": [
    "import cv2,os #isletim sistemi ve resimler için kullanılacak kütüphane acılır\n",
    "\n",
    "test_path='test' # dataset klasörü alınır\n",
    "categories2=os.listdir(test_path)\n",
    "labels2=[i for i in range(len(categories2))] #length of categories yani covid veya normal olma 0 ile 1 olabilir labellar binary\n",
    "\n",
    "label_dict2=dict(zip(categories2,labels2)) #empty dictionary\n",
    "\n",
    "print(label_dict2)\n",
    "print(categories2)\n",
    "print(labels2)\n",
    "\n"
   ]
  },
  {
   "cell_type": "code",
   "execution_count": 3,
   "metadata": {},
   "outputs": [
    {
     "name": "stdout",
     "output_type": "stream",
     "text": [
      "None found\n"
     ]
    }
   ],
   "source": [
    "a=4\n",
    "for category in categories:\n",
    "    folder_path=os.path.join(data_path,category) #klasörün pathı gosterilir dataset /covid veya /normal olarak alındı\n",
    "    img_names=os.listdir(folder_path) #resimlerin isimleri alınır \n",
    "    for img_name in img_names:\n",
    "        for category2 in categories2:\n",
    "            test_folder_path=os.path.join(test_path,category2)\n",
    "            test_names=os.listdir(test_folder_path)\n",
    "            for test_name in test_names:\n",
    "                if  test_name == img_name:\n",
    "                    print(img_name , \"found\")\n",
    "                else:\n",
    "                    found=0;\n",
    "                \n",
    "\n",
    "if found == 0:\n",
    "    print(\"None found\")"
   ]
  },
  {
   "cell_type": "code",
   "execution_count": 4,
   "metadata": {},
   "outputs": [
    {
     "name": "stdout",
     "output_type": "stream",
     "text": [
      "1566\n",
      "569\n"
     ]
    }
   ],
   "source": [
    "img_size=100 #resim boyutu 100 e ayarlandı\n",
    "data=[]\n",
    "target=[]\n",
    "\n",
    "\n",
    "for category in categories:\n",
    "    folder_path=os.path.join(data_path,category) #klasörün pathı gosterilir dataset /covid veya /normal olarak alındı\n",
    "    img_names=os.listdir(folder_path) #resimlerin isimleri alınır\n",
    "    print(len(img_names)) \n",
    "    for img_name in img_names:\n",
    "        img_path=os.path.join(folder_path,img_name) #resimler üzerinde donulur ve resimin ismi path olarak eklenir ve resim okunur\n",
    "        img=cv2.imread(img_path)\n",
    "\n",
    "        try:\n",
    "            gray=cv2.cvtColor(img,cv2.COLOR_BGR2GRAY)           \n",
    "            #resim gri hale getirilir\n",
    "            resized=cv2.resize(gray,(img_size,img_size))\n",
    "            #her resim 100 100 haline getirilir ve gri olur\n",
    "            data.append(resized) #yeni resimler listeye atılır\n",
    "            target.append(label_dict[category])\n",
    "            #0 ve 1 seklinde katagorize edilmis labellar target listesine atılır\n",
    "            \n",
    "        except Exception as e:\n",
    "            print('Exception:',e)\n",
    "            #yanlıs olması durumunda basar"
   ]
  },
  {
   "cell_type": "code",
   "execution_count": 5,
   "metadata": {},
   "outputs": [],
   "source": [
    "import numpy as np\n",
    "\n",
    "data=np.array(data)/255.0 #datayı 255e bolup 0 ile 1 arasındaki degerlere indiririz ve matrise cevrilir\n",
    "data=np.reshape(data,(data.shape[0],img_size,img_size,1)) # resimler kullanılabilecek hale getirilir\n",
    "target=np.array(target)  #target matrise cevrilir\n",
    "\n",
    "from keras.utils import np_utils\n",
    "\n",
    "new_target=np_utils.to_categorical(target) #targette bulunan labelleri kategori seklinde new_targete atıyoruz"
   ]
  },
  {
   "cell_type": "code",
   "execution_count": 6,
   "metadata": {
    "scrolled": true
   },
   "outputs": [
    {
     "data": {
      "text/plain": [
       "(2135, 100, 100, 1)"
      ]
     },
     "execution_count": 6,
     "metadata": {},
     "output_type": "execute_result"
    }
   ],
   "source": [
    "#np.save('data',data) # data olarak dosyada tutulur\n",
    "#np.save('target',new_target) # new target olarak dosyada tutulur\n",
    "data.shape"
   ]
  },
  {
   "cell_type": "code",
   "execution_count": null,
   "metadata": {},
   "outputs": [],
   "source": []
  }
 ],
 "metadata": {
  "kernelspec": {
   "display_name": "Python 3",
   "language": "python",
   "name": "python3"
  },
  "language_info": {
   "codemirror_mode": {
    "name": "ipython",
    "version": 3
   },
   "file_extension": ".py",
   "mimetype": "text/x-python",
   "name": "python",
   "nbconvert_exporter": "python",
   "pygments_lexer": "ipython3",
   "version": "3.8.8"
  }
 },
 "nbformat": 4,
 "nbformat_minor": 2
}
