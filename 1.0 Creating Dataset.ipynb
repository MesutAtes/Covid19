{
 "cells": [
  {
   "cell_type": "markdown",
   "metadata": {},
   "source": [
    "# Dataset\n",
    "\n",
    "500 Covid-19 Positive images\n",
    "1600 Covid-19 Negative images\n",
    "\n",
    "## Credits and Links\n",
    "\n",
    "1. [Covid Chest X Ray Dataset](https://github.com/ieee8023/covid-chestxray-dataset)\n",
    "2. [Pneumonia dataset by Praveen](https://www.kaggle.com/praveengovi/coronahack-chest-xraydataset)"
   ]
  },
  {
   "cell_type": "code",
   "execution_count": null,
   "metadata": {
    "scrolled": true
   },
   "outputs": [],
   "source": [
    "import pandas as pd #.csv acılır\n",
    "import os #isletim sistemi acılır\n",
    "import numpy as np #matris olusturmak için kullanılır\n",
    "import os\n",
    "os.environ['TF_CPP_MIN_LOG_LEVEL'] = '3'\n",
    "datapath1='covid-chestxray-dataset-master' #klasörün alınacağı yer verilir\n",
    "dataset_path='dataset' #resimin yükleneceği klasör\n",
    "\n",
    "categories=os.listdir(dataset_path) #yüklenilecek klasöre covid negative ve pozitive olarak iki klasör açılır\n",
    "print(categories)\n",
    "\n",
    "dataset=pd.read_csv(os.path.join(datapath1,'metadata.csv')) #alınan datayı tespit edebilmek için .csv kullanılır\n",
    "findings=dataset['finding'] #metadata.csvde finding isimli label bulunur\n",
    "image_names=dataset['filename'] #metadata.csvde olan imagelerin isimlerinin labelı verilir"
   ]
  },
  {
   "cell_type": "code",
   "execution_count": null,
   "metadata": {
    "scrolled": true
   },
   "outputs": [],
   "source": [
    "positives_index=np.concatenate((np.where(findings=='Pneumonia/Viral/COVID-19')[0],np.where(findings=='Pneumonia/Viral/SARS')[0]))\n",
    "positive_image_names=image_names[positives_index]\n",
    "dataset"
   ]
  },
  {
   "cell_type": "code",
   "execution_count": null,
   "metadata": {},
   "outputs": [],
   "source": [
    "import cv2 #resimler için cv kütüphanesi yüklenir\n",
    "for positive_image_name in positive_image_names:\n",
    "    image=cv2.imread(os.path.join(datapath1,'images',positive_image_name)) #covid-chestxray images klasöründen resimler okunur\n",
    "    try:\n",
    "        cv2.imwrite(os.path.join(dataset_path,categories[1],positive_image_name),image) #pozitif olan resimlere yazılır\n",
    "    except Exception as e:\n",
    "      pass\n",
    "    \n",
    "        "
   ]
  },
  {
   "cell_type": "code",
   "execution_count": null,
   "metadata": {},
   "outputs": [],
   "source": [
    "datapath2='archive' #ikinci dataseti için klasör\n",
    "\n",
    "dataset=pd.read_csv(os.path.join(datapath2,'Chest_xray_Corona_Metadata.csv')) #klasördeki .csv\n",
    "findings=dataset['Label'] #.csv deki label ismi alınır\n",
    "image_names=dataset['X_ray_image_name'] # .csvdeki image isimleri labeli alınır\n",
    "dataset"
   ]
  },
  {
   "cell_type": "code",
   "execution_count": null,
   "metadata": {},
   "outputs": [],
   "source": [
    "negative_index=np.where(findings=='Normal')[0] #.csvdeki labelda normal olanlar yani covid negatif olanlar alınır."
   ]
  },
  {
   "cell_type": "code",
   "execution_count": null,
   "metadata": {},
   "outputs": [],
   "source": [
    "negative_image_names=image_names[negative_index]\n",
    "negative_image_names"
   ]
  },
  {
   "cell_type": "code",
   "execution_count": null,
   "metadata": {},
   "outputs": [],
   "source": [
    "for negative_image_name in negative_image_names:\n",
    "    image=cv2.imread(os.path.join(datapath2,'images',negative_image_name)) #klasördeki imageler okunur\n",
    "    try:\n",
    "        cv2.imwrite(os.path.join(dataset_path,categories[0],negative_image_name),image) # covid negative olan kısma resimler yazılır\n",
    "    except Exception as e:\n",
    "        pass"
   ]
  },
  {
   "cell_type": "code",
   "execution_count": null,
   "metadata": {},
   "outputs": [],
   "source": [
    "negative_image_names.shape"
   ]
  },
  {
   "cell_type": "code",
   "execution_count": null,
   "metadata": {},
   "outputs": [],
   "source": []
  }
 ],
 "metadata": {
  "kernelspec": {
   "display_name": "Python 3",
   "language": "python",
   "name": "python3"
  },
  "language_info": {
   "codemirror_mode": {
    "name": "ipython",
    "version": 3
   },
   "file_extension": ".py",
   "mimetype": "text/x-python",
   "name": "python",
   "nbconvert_exporter": "python",
   "pygments_lexer": "ipython3",
   "version": "3.8.8"
  }
 },
 "nbformat": 4,
 "nbformat_minor": 2
}
